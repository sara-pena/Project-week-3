{
 "cells": [
  {
   "cell_type": "code",
   "execution_count": 1,
   "metadata": {},
   "outputs": [],
   "source": [
    "import numpy as np\n",
    "import pandas as pd\n",
    "import pickle\n",
    "import spotipy\n",
    "from spotipy.oauth2 import SpotifyClientCredentials\n",
    "import random\n",
    "from sklearn.preprocessing import StandardScaler\n",
    "\n",
    "from joblib import dump, load\n",
    "\n",
    "from sklearn.model_selection import train_test_split\n",
    "from sklearn.datasets import load_iris\n"
   ]
  },
  {
   "cell_type": "code",
   "execution_count": 2,
   "metadata": {},
   "outputs": [],
   "source": [
    "spotify = spotipy.Spotify(client_credentials_manager=SpotifyClientCredentials(\n",
    "    client_id=\"a4cf71f1fda94d89849d2b479502cefc\",\n",
    "    client_secret=\"830c8872e4b3413bb51abafa8d0ccf14\"))\n"
   ]
  },
  {
   "cell_type": "code",
   "execution_count": 3,
   "metadata": {},
   "outputs": [],
   "source": [
    "#import the data\n",
    "playlist_songs = pd.read_csv(\"playlist_songs.csv\")\n",
    "hot100 = pd.read_csv(\"hot100songs.csv\")"
   ]
  },
  {
   "cell_type": "code",
   "execution_count": 4,
   "metadata": {},
   "outputs": [],
   "source": [
    "kmeans = pickle.load(open(\"clustering_model\", 'rb'))\n"
   ]
  },
  {
   "cell_type": "code",
   "execution_count": 5,
   "metadata": {},
   "outputs": [],
   "source": [
    "def get_audio_features(song, spotify):\n",
    "    results = spotify.search(song, limit = 1)\n",
    "    user_song_uri = results[\"tracks\"][\"items\"][0][\"uri\"]\n",
    "    user_song_audio_feat = spotify.audio_features(user_song_uri)\n",
    "    return user_song_audio_feat\n"
   ]
  },
  {
   "cell_type": "code",
   "execution_count": 6,
   "metadata": {},
   "outputs": [],
   "source": [
    "def cluster_user_song(audio_features):\n",
    "    scaler = load('std_scaler.bin')\n",
    "    user_song_audio_feat_df = pd.DataFrame(audio_features)\n",
    "    user_song_audio_feat_to_cluster = user_song_audio_feat_df[[\"danceability\", \"energy\", \"key\", \"loudness\", \"speechiness\", \"acousticness\", \"instrumentalness\", \"liveness\", \"valence\", \"tempo\"]]\n",
    "    user_song_audio_feat_scaled = scaler.transform(user_song_audio_feat_to_cluster)\n",
    "    user_song_audio_feat_scaled = pd.DataFrame(user_song_audio_feat_scaled)\n",
    "    cluster_user_song = kmeans.predict(user_song_audio_feat_scaled)\n",
    "    return list(cluster_user_song)"
   ]
  },
  {
   "cell_type": "code",
   "execution_count": 7,
   "metadata": {},
   "outputs": [],
   "source": [
    "def suggesting_song(cluster):\n",
    "    cluster_to_suggest = playlist_songs[playlist_songs[\"cluster\"] == cluster[0]]\n",
    "    song_to_suggest = cluster_to_suggest.sample(n=1)\n",
    "    return song_to_suggest[\"song name\"]\n"
   ]
  },
  {
   "cell_type": "code",
   "execution_count": null,
   "metadata": {},
   "outputs": [],
   "source": [
    "user_song = input(\"please select a song \")"
   ]
  },
  {
   "cell_type": "code",
   "execution_count": 8,
   "metadata": {},
   "outputs": [],
   "source": [
    "def hot_song(song):\n",
    "    if hot100[\"song names\"].str.contains(song).any():\n",
    "        print(\"This is a hot song, this might like you: \", random.choice(hot100[\"song names\"]))\n",
    "    else:\n",
    "        user_song_audio_feat = get_audio_features(user_song, spotify)\n",
    "        user_song_cluster = cluster_user_song(user_song_audio_feat)\n",
    "        song_to_suggest = suggesting_song(user_song_cluster)\n",
    "        print(\"Try\", list(song_to_suggest)[0], \", you might like it\")"
   ]
  },
  {
   "cell_type": "code",
   "execution_count": null,
   "metadata": {},
   "outputs": [],
   "source": []
  }
 ],
 "metadata": {
  "kernelspec": {
   "display_name": "Python 3",
   "language": "python",
   "name": "python3"
  },
  "language_info": {
   "codemirror_mode": {
    "name": "ipython",
    "version": 3
   },
   "file_extension": ".py",
   "mimetype": "text/x-python",
   "name": "python",
   "nbconvert_exporter": "python",
   "pygments_lexer": "ipython3",
   "version": "3.8.3"
  }
 },
 "nbformat": 4,
 "nbformat_minor": 4
}
