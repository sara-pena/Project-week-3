{
 "cells": [
  {
   "cell_type": "code",
   "execution_count": 1,
   "metadata": {},
   "outputs": [],
   "source": [
    "import spotipy\n",
    "from spotipy.oauth2 import SpotifyClientCredentials"
   ]
  },
  {
   "cell_type": "code",
   "execution_count": 2,
   "metadata": {},
   "outputs": [],
   "source": [
    "spotify = spotipy.Spotify(client_credentials_manager=SpotifyClientCredentials(\n",
    "    client_id=\"a4cf71f1fda94d89849d2b479502cefc\",\n",
    "    client_secret=\"830c8872e4b3413bb51abafa8d0ccf14\"))"
   ]
  },
  {
   "cell_type": "code",
   "execution_count": 3,
   "metadata": {},
   "outputs": [
    {
     "name": "stdout",
     "output_type": "stream",
     "text": [
      "please select a song yellow\n"
     ]
    }
   ],
   "source": [
    "#import the module that contains all the functions\n",
    "import song_functions as sf"
   ]
  },
  {
   "cell_type": "code",
   "execution_count": 4,
   "metadata": {},
   "outputs": [
    {
     "name": "stdout",
     "output_type": "stream",
     "text": [
      "please select a song yellow\n",
      "Try Cubensis Lenses , you might like it\n"
     ]
    }
   ],
   "source": [
    "user_song = input(\"please select a song \")\n",
    "sf.hot_song(user_song)\n",
    "\n"
   ]
  },
  {
   "cell_type": "code",
   "execution_count": null,
   "metadata": {},
   "outputs": [],
   "source": [
    "'''\n",
    "def hot_song(song):\n",
    "    if hot100[\"song names\"].str.contains(song).any():\n",
    "        print(\"This is a hot song, this might like you: \", random.choice(hot100[\"song names\"]))\n",
    "    else:\n",
    "        print(\"Feature not yet available\")     \n",
    "'''"
   ]
  }
 ],
 "metadata": {
  "kernelspec": {
   "display_name": "Python 3",
   "language": "python",
   "name": "python3"
  },
  "language_info": {
   "codemirror_mode": {
    "name": "ipython",
    "version": 3
   },
   "file_extension": ".py",
   "mimetype": "text/x-python",
   "name": "python",
   "nbconvert_exporter": "python",
   "pygments_lexer": "ipython3",
   "version": "3.8.3"
  }
 },
 "nbformat": 4,
 "nbformat_minor": 4
}
